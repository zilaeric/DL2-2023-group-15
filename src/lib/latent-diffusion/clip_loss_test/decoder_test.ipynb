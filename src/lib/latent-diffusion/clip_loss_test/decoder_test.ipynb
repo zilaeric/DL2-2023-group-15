{
 "cells": [
  {
   "cell_type": "code",
   "execution_count": 6,
   "metadata": {},
   "outputs": [
    {
     "data": {
      "text/plain": [
       "'1.13.1+cu117'"
      ]
     },
     "execution_count": 6,
     "metadata": {},
     "output_type": "execute_result"
    }
   ],
   "source": [
    "from diffusers import UNet2DModel, DDIMScheduler, VQModel\n",
    "import torch\n",
    "import PIL.Image\n",
    "import numpy as np\n",
    "import tqdm\n",
    "\n",
    "torch.__version__"
   ]
  },
  {
   "cell_type": "code",
   "execution_count": 7,
   "metadata": {},
   "outputs": [
    {
     "name": "stderr",
     "output_type": "stream",
     "text": [
      "The config attributes {'timestep_values': None, 'timesteps': 1000} were passed to DDIMScheduler, but are not expected and will be ignored. Please verify your scheduler_config.json configuration file.\n"
     ]
    }
   ],
   "source": [
    "# load all models\n",
    "unet = UNet2DModel.from_pretrained(\"CompVis/ldm-celebahq-256\", subfolder=\"unet\")\n",
    "vqvae = VQModel.from_pretrained(\"CompVis/ldm-celebahq-256\", subfolder=\"vqvae\")\n",
    "scheduler = DDIMScheduler.from_config(\"CompVis/ldm-celebahq-256\", subfolder=\"scheduler\")\n",
    "\n",
    "# set to cuda\n",
    "torch_device = \"cuda\" if torch.cuda.is_available() else \"cpu\"\n",
    "\n",
    "unet.to(torch_device)\n",
    "vqvae.to(torch_device);"
   ]
  },
  {
   "cell_type": "code",
   "execution_count": 8,
   "metadata": {},
   "outputs": [
    {
     "name": "stderr",
     "output_type": "stream",
     "text": [
      "<ipython-input-8-721d8f03a340>:6: FutureWarning: Accessing config attribute `in_channels` directly via 'UNet2DModel' object attribute is deprecated. Please access 'in_channels' over 'UNet2DModel's config object instead, e.g. 'unet.config.in_channels'.\n",
      "  (1, unet.in_channels, unet.sample_size, unet.sample_size),\n"
     ]
    }
   ],
   "source": [
    "seed = 3\n",
    "\n",
    "# generate gaussian noise to be decoded\n",
    "generator = torch.manual_seed(seed)\n",
    "noise = torch.randn(\n",
    "    (1, unet.in_channels, unet.sample_size, unet.sample_size),\n",
    "    generator=generator,\n",
    ").to(torch_device)\n",
    "\n",
    "# set inference steps for DDIM\n",
    "scheduler.set_timesteps(num_inference_steps=200)"
   ]
  },
  {
   "cell_type": "code",
   "execution_count": 9,
   "metadata": {},
   "outputs": [
    {
     "name": "stderr",
     "output_type": "stream",
     "text": [
      "100%|██████████| 200/200 [00:14<00:00, 13.67it/s]\n"
     ]
    }
   ],
   "source": [
    "image = noise\n",
    "frames_unsampled = []\n",
    "for t in tqdm.tqdm(scheduler.timesteps):\n",
    "    # predict noise residual of previous image\n",
    "    with torch.no_grad():\n",
    "        residual = unet(image, t)[\"sample\"]\n",
    "\n",
    "    # compute previous image x_t according to DDIM formula\n",
    "    prev_image = scheduler.step(residual, t, image, eta=0.0)[\"prev_sample\"]\n",
    "\n",
    "    # x_t-1 -> x_t\n",
    "    image = prev_image\n",
    "\n",
    "    # decode image with vae\n",
    "    with torch.no_grad():\n",
    "        image_frame = vqvae.decode(image)\n",
    "        frames_unsampled.append(image_frame)"
   ]
  },
  {
   "cell_type": "code",
   "execution_count": 11,
   "metadata": {},
   "outputs": [],
   "source": [
    "from PIL import Image, ImageSequence\n",
    "\n",
    "frames = []\n",
    "\n",
    "for frame in frames_unsampled:\n",
    "    # process image\n",
    "    image_processed = frame.sample.cpu().permute(0, 2, 3, 1)\n",
    "    image_processed = (image_processed + 1.0) * 127.5\n",
    "    image_processed = image_processed.clamp(0, 255).numpy().astype(np.uint8)\n",
    "    image_pil = PIL.Image.fromarray(image_processed[0])\n",
    "    frames.append(image_pil)\n",
    "\n",
    "frames[-1].info[\"duration\"] = 100000\n",
    "frames[0].save(f\"figures/output_{seed}.gif\", format=\"GIF\", append_images=frames[1:], save_all=True, duration=0.5, loop=0)"
   ]
  },
  {
   "cell_type": "code",
   "execution_count": null,
   "metadata": {},
   "outputs": [],
   "source": []
  }
 ],
 "metadata": {
  "kernelspec": {
   "display_name": "Python 3",
   "language": "python",
   "name": "python3"
  },
  "language_info": {
   "codemirror_mode": {
    "name": "ipython",
    "version": 3
   },
   "file_extension": ".py",
   "mimetype": "text/x-python",
   "name": "python",
   "nbconvert_exporter": "python",
   "pygments_lexer": "ipython3",
   "version": "3.8.8"
  },
  "orig_nbformat": 4
 },
 "nbformat": 4,
 "nbformat_minor": 2
}
