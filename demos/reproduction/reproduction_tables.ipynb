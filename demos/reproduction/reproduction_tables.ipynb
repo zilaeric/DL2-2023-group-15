{
 "cells": [
  {
   "attachments": {},
   "cell_type": "markdown",
   "metadata": {},
   "source": [
    "## Tables for \"Reproduction of the Experiments\""
   ]
  },
  {
   "cell_type": "code",
   "execution_count": 1,
   "metadata": {},
   "outputs": [],
   "source": [
    "import sys\n",
    "sys.path.append('../../src/lib/lib_utils/')\n",
    "\n",
    "import tables"
   ]
  },
  {
   "cell_type": "code",
   "execution_count": 2,
   "metadata": {},
   "outputs": [
    {
     "name": "stdout",
     "output_type": "stream",
     "text": [
      "<table align=\"center\">\n",
      "\t<tr align=\"center\">\n",
      "\t\t<th align=\"left\">Metric</th>\n",
      "\t\t<th></th>\n",
      "\t\t<th>Smiling (IN)</th>\n",
      "\t\t<th>Sad (IN)</th>\n",
      "\t\t<th>Tanned (IN)</th>\n",
      "\t\t<th>Pixar (UN)</th>\n",
      "\t\t<th>Neanderthal (UN)</th>\n",
      "\t</tr>\n",
      "\t<tr align=\"center\">\n",
      "\t\t<td align=\"left\">Original $S_{dir}$</td>\n",
      "\t\t<td>$\\Delta h_t$</td>\n",
      "\t\t<td>0.921</td>\n",
      "\t\t<td>0.964</td>\n",
      "\t\t<td>0.991</td>\n",
      "\t\t<td>0.956</td>\n",
      "\t\t<td>0.805</td>\n",
      "\t</tr>\n",
      "\t<tr align=\"center\">\n",
      "\t\t<td align=\"left\">Reproduced $S_{dir}$</td>\n",
      "\t\t<td>$\\Delta h_t$</td>\n",
      "\t\t<td>0.955<br>(0.048)</td>\n",
      "\t\t<td>0.993<br>(0.037)</td>\n",
      "\t\t<td>0.933<br>(0.040)</td>\n",
      "\t\t<td>0.931<br>(0.032)</td>\n",
      "\t\t<td>0.913<br>(0.035)</td>\n",
      "\t</tr>\n",
      "\t<tr align=\"center\">\n",
      "\t\t<td align=\"left\">Reproduced $S_{dir}$</td>\n",
      "\t\t<td>$0.5 \\Delta h_t$</td>\n",
      "\t\t<td>0.969<br>(0.047)</td>\n",
      "\t\t<td>0.999<br>(0.035)</td>\n",
      "\t\t<td>0.973<br>(0.036)</td>\n",
      "\t\t<td>0.942<br>(0.031)</td>\n",
      "\t\t<td>0.952<br>(0.035)</td>\n",
      "\t</tr>\n",
      "\t<tr align=\"left\">\n",
      "\t\t<td colspan=7><b>Table 2.</b> Directional CLIP score ($S_{dir}$) for in-domain (IN) and unseen-domain (UN) attributes. Standard<br>deviations are reported in parentheses.</td>\n",
      "\t</tr>\n",
      "</table>\n"
     ]
    }
   ],
   "source": [
    "tables.reproduction_sdir()"
   ]
  },
  {
   "cell_type": "code",
   "execution_count": 3,
   "metadata": {},
   "outputs": [
    {
     "name": "stdout",
     "output_type": "stream",
     "text": [
      "<table align=\"center\">\n",
      "\t<tr align=\"center\">\n",
      "\t\t<th align=\"left\">Metric</th>\n",
      "\t\t<th></th>\n",
      "\t\t<th>Smiling (IN)</th>\n",
      "\t\t<th>Sad (IN)</th>\n",
      "\t\t<th>Tanned (IN)</th>\n",
      "\t\t<th>Pixar (UN)</th>\n",
      "\t\t<th>Neanderthal (UN)</th>\n",
      "\t</tr>\n",
      "\t<tr align=\"center\">\n",
      "\t\t<td align=\"left\">$FID(\\mathbf{x}_{orig}, \\mathbf{x}_{edit})$</td>\n",
      "\t\t<td>$\\Delta h_t$</td>\n",
      "\t\t<td>89.2</td>\n",
      "\t\t<td>92.9</td>\n",
      "\t\t<td>100.5</td>\n",
      "\t\t<td>125.8</td>\n",
      "\t\t<td>125.8</td>\n",
      "\t</tr>\n",
      "\t<tr align=\"center\">\n",
      "\t\t<td align=\"left\">$FID(\\mathbf{x}_{orig}, \\mathbf{x}_{edit})$</td>\n",
      "\t\t<td>$0.5 \\Delta h_t$</td>\n",
      "\t\t<td>73.7</td>\n",
      "\t\t<td>70.6</td>\n",
      "\t\t<td>73.7</td>\n",
      "\t\t<td>89.3</td>\n",
      "\t\t<td>74.8</td>\n",
      "\t</tr>\n",
      "\t<tr align=\"center\">\n",
      "\t\t<td align=\"left\">$FID(\\mathbf{x}_{recon}, \\mathbf{x}_{edit})$</td>\n",
      "\t\t<td>$\\Delta h_t$</td>\n",
      "\t\t<td>68.8</td>\n",
      "\t\t<td>60.5</td>\n",
      "\t\t<td>81.7</td>\n",
      "\t\t<td>96.9</td>\n",
      "\t\t<td>137.3</td>\n",
      "\t</tr>\n",
      "\t<tr align=\"center\">\n",
      "\t\t<td align=\"left\">$FID(\\mathbf{x}_{recon}, \\mathbf{x}_{edit})$</td>\n",
      "\t\t<td>$0.5 \\Delta h_t$</td>\n",
      "\t\t<td>44.4</td>\n",
      "\t\t<td>43.7</td>\n",
      "\t\t<td>49.7</td>\n",
      "\t\t<td>61.0</td>\n",
      "\t\t<td>71.7</td>\n",
      "\t</tr>\n",
      "\t<tr align=\"left\">\n",
      "\t\t<td colspan=7><b>Table 3.</b> Frechet Inception Distance ($FID$) for in-domain (IN) and unseen-domain (UN) attributes.</td>\n",
      "\t</tr>\n",
      "</table>\n"
     ]
    }
   ],
   "source": [
    "tables.reproduction_fid()"
   ]
  },
  {
   "cell_type": "code",
   "execution_count": 4,
   "metadata": {},
   "outputs": [
    {
     "name": "stdout",
     "output_type": "stream",
     "text": [
      "<table align=\"center\">\n",
      "\t<tr align=\"center\">\n",
      "\t\t<th align=\"left\">Metric</th>\n",
      "\t\t<th>Race</th>\n",
      "\t\t<th>Smiling (IN)</th>\n",
      "\t\t<th>Sad (IN)</th>\n",
      "\t\t<th>Tanned (IN)</th>\n",
      "\t\t<th>Pixar (UN)</th>\n",
      "\t\t<th>Neanderthal (UN)</th>\n",
      "\t</tr>\n",
      "\t<tr align=\"center\">\n",
      "\t\t<td align=\"left\">$FID(\\mathbf{x}_{orig}, \\mathbf{x}_{edit})$</td>\n",
      "\t\t<td>Caucasian</td>\n",
      "\t\t<td>81.3</td>\n",
      "\t\t<td>76.2</td>\n",
      "\t\t<td>75.9</td>\n",
      "\t\t<td>103.5</td>\n",
      "\t\t<td>94.1</td>\n",
      "\t</tr>\n",
      "\t<tr align=\"center\">\n",
      "\t\t<td align=\"left\">$FID(\\mathbf{x}_{orig}, \\mathbf{x}_{edit})$</td>\n",
      "\t\t<td>Non-caucasian</td>\n",
      "\t\t<td>138.4</td>\n",
      "\t\t<td>123.3</td>\n",
      "\t\t<td>157.3</td>\n",
      "\t\t<td>185.2</td>\n",
      "\t\t<td>177.6</td>\n",
      "\t</tr>\n",
      "\t<tr align=\"center\">\n",
      "\t\t<td align=\"left\">$FID(\\mathbf{x}_{recon}, \\mathbf{x}_{edit})$</td>\n",
      "\t\t<td>Caucasian</td>\n",
      "\t\t<td>54.3</td>\n",
      "\t\t<td>55.1</td>\n",
      "\t\t<td>66.4</td>\n",
      "\t\t<td>76.6</td>\n",
      "\t\t<td>111.0</td>\n",
      "\t</tr>\n",
      "\t<tr align=\"center\">\n",
      "\t\t<td align=\"left\">$FID(\\mathbf{x}_{recon}, \\mathbf{x}_{edit})$</td>\n",
      "\t\t<td>Non-caucasian</td>\n",
      "\t\t<td>88.3</td>\n",
      "\t\t<td>84.1</td>\n",
      "\t\t<td>121.1</td>\n",
      "\t\t<td>142.0</td>\n",
      "\t\t<td>186.8</td>\n",
      "\t</tr>\n",
      "\t<tr align=\"left\">\n",
      "\t\t<td colspan=7><b>Table 4.</b> Frechet Inception Distance ($FID$) for in-domain (IN) and unseen-domain (UN) attributes compared between caucasian and non-caucasian individuals.</td>\n",
      "\t</tr>\n",
      "</table>\n"
     ]
    }
   ],
   "source": [
    "tables.reproduction_fid_bias()"
   ]
  }
 ],
 "metadata": {
  "kernelspec": {
   "display_name": "asyrp",
   "language": "python",
   "name": "python3"
  },
  "language_info": {
   "codemirror_mode": {
    "name": "ipython",
    "version": 3
   },
   "file_extension": ".py",
   "mimetype": "text/x-python",
   "name": "python",
   "nbconvert_exporter": "python",
   "pygments_lexer": "ipython3",
   "version": "3.11.3"
  },
  "orig_nbformat": 4
 },
 "nbformat": 4,
 "nbformat_minor": 2
}
