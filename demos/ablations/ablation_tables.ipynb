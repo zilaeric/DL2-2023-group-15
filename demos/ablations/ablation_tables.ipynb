{
 "cells": [
  {
   "attachments": {},
   "cell_type": "markdown",
   "metadata": {},
   "source": [
    "## Tables for \"Ablation study\""
   ]
  },
  {
   "cell_type": "code",
   "execution_count": 1,
   "metadata": {},
   "outputs": [],
   "source": [
    "import sys\n",
    "sys.path.append('../../src/lib/lib_utils/')\n",
    "\n",
    "import tables"
   ]
  },
  {
   "cell_type": "code",
   "execution_count": 2,
   "metadata": {},
   "outputs": [
    {
     "name": "stdout",
     "output_type": "stream",
     "text": [
      "<table align=\"center\">\n",
      "\t<tr align=\"center\">\n",
      "\t\t<th align=\"left\">Metric</th>\n",
      "\t\t<th>Epoch 1</th>\n",
      "\t\t<th>Epoch 2</th>\n",
      "\t\t<th>Epoch 3</th>\n",
      "\t\t<th>Epoch 4</th>\n",
      "\t</tr>\n",
      "\t<tr align=\"center\">\n",
      "\t\t<td align=\"left\">$FID(\\mathbf{x}_{orig}, \\mathbf{x}_{edit})$</td>\n",
      "\t\t<td>113.2</td>\n",
      "\t\t<td>94.2</td>\n",
      "\t\t<td>104.9</td>\n",
      "\t\t<td>100.8</td>\n",
      "\t</tr>\n",
      "\t<tr align=\"center\">\n",
      "\t\t<td align=\"left\">$FID(\\mathbf{x}_{recon}, \\mathbf{x}_{edit})$</td>\n",
      "\t\t<td>105.5</td>\n",
      "\t\t<td>93.2</td>\n",
      "\t\t<td>101.4</td>\n",
      "\t\t<td>98.3</td>\n",
      "\t</tr>\n",
      "\t<tr align=\"left\">\n",
      "\t\t<td colspan=5><b>Table 5.</b> Frechet Inception Distance ($FID$) with pixel-channel <br> architecture for the \"pixar\" attribute across epochs.</td>\n",
      "\t</tr>\n",
      "</table>\n"
     ]
    }
   ],
   "source": [
    "tables.ablation_fid_epochs()"
   ]
  },
  {
   "cell_type": "code",
   "execution_count": 3,
   "metadata": {},
   "outputs": [
    {
     "name": "stdout",
     "output_type": "stream",
     "text": [
      "<table align=\"center\">\n",
      "\t<tr align=\"center\">\n",
      "\t\t<th align=\"left\">Model</th>\n",
      "\t\t<th>Smiling (IN)</th>\n",
      "\t\t<th>Sad (IN)</th>\n",
      "\t\t<th>Tanned (IN)</th>\n",
      "\t\t<th>Pixar (UN)</th>\n",
      "\t\t<th>Neanderthal (UN)</th>\n",
      "\t</tr>\n",
      "\t<tr align=\"center\">\n",
      "\t\t<td align=\"left\">Original</td>\n",
      "\t\t<td>89.2</td>\n",
      "\t\t<td>92.9</td>\n",
      "\t\t<td>100.5</td>\n",
      "\t\t<td>125.8</td>\n",
      "\t\t<td>125.8</td>\n",
      "\t</tr>\n",
      "\t<tr align=\"center\">\n",
      "\t\t<td align=\"left\">Ours</td>\n",
      "\t\t<td>84.3</td>\n",
      "\t\t<td>88.8</td>\n",
      "\t\t<td>82.2</td>\n",
      "\t\t<td>83.7</td>\n",
      "\t\t<td>87.0</td>\n",
      "\t</tr>\n",
      "\t<tr align=\"left\">\n",
      "\t\t<td colspan=6><b>Table 5.</b> Comparison of Frechet Inception Distance ($FID \\downarrow$) metric for in-domain (IN) and unseen-domain (UN) attributes between the original model and our best model.</td>\n",
      "\t</tr>\n",
      "</table>\n"
     ]
    }
   ],
   "source": [
    "tables.ablation_fid()"
   ]
  }
 ],
 "metadata": {
  "kernelspec": {
   "display_name": "asyrp",
   "language": "python",
   "name": "python3"
  },
  "language_info": {
   "codemirror_mode": {
    "name": "ipython",
    "version": 3
   },
   "file_extension": ".py",
   "mimetype": "text/x-python",
   "name": "python",
   "nbconvert_exporter": "python",
   "pygments_lexer": "ipython3",
   "version": "3.11.3"
  },
  "orig_nbformat": 4
 },
 "nbformat": 4,
 "nbformat_minor": 2
}
